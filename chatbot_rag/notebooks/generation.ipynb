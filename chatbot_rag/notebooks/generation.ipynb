{
 "cells": [
  {
   "cell_type": "code",
   "execution_count": 1,
   "metadata": {},
   "outputs": [
    {
     "name": "stdout",
     "output_type": "stream",
     "text": [
      "                                       question_answer\n",
      "0    Вопрос: -Где деньги? Ответ :Денежные средства ...\n",
      "1    Вопрос : Когда я получу займ, который запрашив...\n",
      "2    Вопрос :Когда я получу запланированные выплаты...\n",
      "3    Вопрос :Когда мои деньги будут зачислены на мо...\n",
      "4    Вопрос :Почему долго поступают? Ответ :Денежны...\n",
      "..                                                 ...\n",
      "107  Вопрос: [НОМЕР ТЕЛЕФОНА]\\tОтвет: -Спасибо, ожи...\n",
      "108  Вопрос : -Спасибо\\tОтвет :С вами свзяался спец...\n",
      "109  \"Вопрос : А как работает webitel? Ответ: Webit...\n",
      "110  \"Вопрос : -Почему у Вас такая большая комиссия...\n",
      "111  \"Вопрос : Что такое Webitel Ответ: Webitel - э...\n",
      "\n",
      "[112 rows x 1 columns]\n"
     ]
    },
    {
     "name": "stderr",
     "output_type": "stream",
     "text": [
      "/tmp/ipykernel_1256949/4268214792.py:37: FutureWarning: Series.__getitem__ treating keys as positions is deprecated. In a future version, integer keys will always be treated as labels (consistent with DataFrame behavior). To access a value by position, use `ser.iloc[pos]`\n",
      "  example = dataset.iloc[i][0]\n"
     ]
    },
    {
     "name": "stdout",
     "output_type": "stream",
     "text": [
      "content='' additional_kwargs={'tool_calls': [{'id': 'call_TUc0hr5SHKgedNfLIgeV7t4j', 'function': {'arguments': '{\"paraphrased_query\": \"Где находятся мои деньги?\"}', 'name': 'ParaphrasedQuery'}, 'type': 'function'}, {'id': 'call_yMenOEqOJEklBXOX1xcQeSxZ', 'function': {'arguments': '{\"paraphrased_query\": \"Когда поступят деньги?\"}', 'name': 'ParaphrasedQuery'}, 'type': 'function'}, {'id': 'call_Qt5hYk7Yr3DFB20OnoQpsk8k', 'function': {'arguments': '{\"paraphrased_query\": \"Когда я получу свои деньги?\"}', 'name': 'ParaphrasedQuery'}, 'type': 'function'}, {'id': 'call_GZdUKQoXsm5UKoCmA4saJKUA', 'function': {'arguments': '{\"paraphrased_query\": \"Когда деньги будут зачислены?\"}', 'name': 'ParaphrasedQuery'}, 'type': 'function'}, {'id': 'call_859UUP6gPL8wztemP57iK7QD', 'function': {'arguments': '{\"paraphrased_query\": \"Когда ожидать поступления денег?\"}', 'name': 'ParaphrasedQuery'}, 'type': 'function'}]} response_metadata={'token_usage': {'completion_tokens': 153, 'prompt_tokens': 218, 'total_tokens': 371}, 'model_name': 'gpt-4o', 'system_fingerprint': 'fp_319be4768e', 'finish_reason': 'tool_calls', 'logprobs': None} id='run-bb9f706b-9f39-4f01-876d-3e44f68c52f6-0' tool_calls=[{'name': 'ParaphrasedQuery', 'args': {'paraphrased_query': 'Где находятся мои деньги?'}, 'id': 'call_TUc0hr5SHKgedNfLIgeV7t4j'}, {'name': 'ParaphrasedQuery', 'args': {'paraphrased_query': 'Когда поступят деньги?'}, 'id': 'call_yMenOEqOJEklBXOX1xcQeSxZ'}, {'name': 'ParaphrasedQuery', 'args': {'paraphrased_query': 'Когда я получу свои деньги?'}, 'id': 'call_Qt5hYk7Yr3DFB20OnoQpsk8k'}, {'name': 'ParaphrasedQuery', 'args': {'paraphrased_query': 'Когда деньги будут зачислены?'}, 'id': 'call_GZdUKQoXsm5UKoCmA4saJKUA'}, {'name': 'ParaphrasedQuery', 'args': {'paraphrased_query': 'Когда ожидать поступления денег?'}, 'id': 'call_859UUP6gPL8wztemP57iK7QD'}] usage_metadata={'input_tokens': 218, 'output_tokens': 153, 'total_tokens': 371}\n"
     ]
    }
   ],
   "source": [
    "from langchain_core.prompts import PromptTemplate\n",
    "from langchain_openai import ChatOpenAI\n",
    "from pydantic import BaseModel, Field\n",
    "from langchain.output_parsers import PydanticToolsParser\n",
    "import pandas as pd\n",
    "\n",
    "llm = ChatOpenAI(model=\"gpt-4o\", temperature=0.4)\n",
    "\n",
    "class ParaphrasedQuery(BaseModel):\n",
    "    \"\"\"You have performed query expansion to generate a paraphrasing of a question.\"\"\"\n",
    "\n",
    "    paraphrased_query: str = Field(\n",
    "        ...,\n",
    "        description=\"A unique paraphrasing of the original question.\",\n",
    "    )\n",
    "\n",
    "template = \"\"\"\n",
    "You are worker in bank domain and your role is to generate syntetic data to train our models.\n",
    "You need to rewrite the question \"Вопрос\"  in a different way but you need to keep the original meaning.\n",
    "You need to generate at least 5 different versions of the question.\n",
    "You will see question and answer, as response provide only rephrased questions, do not change answers.\n",
    "Here is the original question and the answer:\n",
    "{example}\n",
    "\n",
    "\n",
    "Start generating the paraphrased questions:\"\"\"\n",
    "\n",
    "prompt = PromptTemplate.from_template(template)\n",
    "llm_with_tools = llm.bind_tools([ParaphrasedQuery])\n",
    "syntetitc_data_generator = prompt | llm_with_tools# | PydanticToolsParser(tools=[ParaphrasedQuery])\n",
    "\n",
    "if __name__ == '__main__':\n",
    "    dataset = pd.read_csv('webitel_dataset.csv')\n",
    "    print(dataset)\n",
    "    for i in range(len(dataset)):\n",
    "        example = dataset.iloc[i][0]\n",
    "        if example.count('Вопрос') > 1:\n",
    "            #for now we skip samples where we have more than one question\n",
    "            pass\n",
    "        else:\n",
    "            res = syntetitc_data_generator.invoke({\"example\": example})\n",
    "        \n",
    "        print(res)\n",
    "        break\n",
    "        # print(\"Example:\", example)\n",
    "        # response = syntetitc_data_generator({\"example\": example})\n",
    "        # print(\"Response:\", response)\n",
    "        # print(\"\\n\"*3"
   ]
  },
  {
   "cell_type": "code",
   "execution_count": 16,
   "metadata": {},
   "outputs": [
    {
     "name": "stdout",
     "output_type": "stream",
     "text": [
      "Где находятся мои деньги?\n",
      "Когда поступят деньги?\n",
      "Когда я получу свои деньги?\n",
      "Когда деньги будут зачислены?\n",
      "Когда ожидать поступления денег?\n"
     ]
    }
   ],
   "source": [
    "import json\n",
    "\n",
    "for tool_call in res.additional_kwargs['tool_calls']:\n",
    "    question = json.loads(tool_call['function']['arguments'])['paraphrased_query']\n",
    "    print(question)"
   ]
  },
  {
   "cell_type": "code",
   "execution_count": null,
   "metadata": {},
   "outputs": [],
   "source": []
  }
 ],
 "metadata": {
  "kernelspec": {
   "display_name": "aya",
   "language": "python",
   "name": "python3"
  },
  "language_info": {
   "codemirror_mode": {
    "name": "ipython",
    "version": 3
   },
   "file_extension": ".py",
   "mimetype": "text/x-python",
   "name": "python",
   "nbconvert_exporter": "python",
   "pygments_lexer": "ipython3",
   "version": "3.12.3"
  }
 },
 "nbformat": 4,
 "nbformat_minor": 2
}
