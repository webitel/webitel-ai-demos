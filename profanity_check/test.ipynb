{
 "cells": [
  {
   "cell_type": "code",
   "execution_count": null,
   "metadata": {},
   "outputs": [],
   "source": [
    "from profanityfilter import ProfanityFilter\n",
    "\n",
    "pf = ProfanityFilter()\n",
    "\n",
    "pf.set_censor(\"@\")\n",
    "pf.censor(\"That's bullshit!\")\n"
   ]
  },
  {
   "cell_type": "code",
   "execution_count": null,
   "metadata": {},
   "outputs": [],
   "source": [
    "pf.define_words([\"icecream\", \"choco\"])\n",
    "pf.censor(\"I love icecream and choco!\")\n",
    "pf.is_clean(\"That's awesome!\")\n",
    "pf.is_clean(\"That's bullshit!\")\n",
    "pf.is_profane(\"Profane shit is not good\")\n",
    "\n",
    "pf_custom = ProfanityFilter(custom_censor_list=[\"chocolate\", \"orange\"])\n",
    "pf_custom.censor(\"Fuck orange chocolates\")\n",
    "\n",
    "pf_extended = ProfanityFilter(extra_censor_list=[\"chocolate\", \"orange\"])\n",
    "pf_extended.censor(\"Fuck orange chocolates\")"
   ]
  },
  {
   "cell_type": "markdown",
   "metadata": {},
   "source": []
  },
  {
   "cell_type": "code",
   "execution_count": 1,
   "metadata": {},
   "outputs": [
    {
     "name": "stdout",
     "output_type": "stream",
     "text": [
      "Collecting rapidfuzz\n",
      "  Downloading rapidfuzz-3.9.4-cp311-cp311-manylinux_2_17_x86_64.manylinux2014_x86_64.whl.metadata (12 kB)\n",
      "Downloading rapidfuzz-3.9.4-cp311-cp311-manylinux_2_17_x86_64.manylinux2014_x86_64.whl (3.4 MB)\n",
      "\u001b[2K   \u001b[90m━━━━━━━━━━━━━━━━━━━━━━━━━━━━━━━━━━━━━━━━\u001b[0m \u001b[32m3.4/3.4 MB\u001b[0m \u001b[31m17.4 MB/s\u001b[0m eta \u001b[36m0:00:00\u001b[0m00:01\u001b[0m0:01\u001b[0m\n",
      "\u001b[?25hInstalling collected packages: rapidfuzz\n",
      "Successfully installed rapidfuzz-3.9.4\n"
     ]
    }
   ],
   "source": [
    "!pip install rapidfuzz"
   ]
  },
  {
   "cell_type": "code",
   "execution_count": null,
   "metadata": {},
   "outputs": [],
   "source": [
    "from flask import Flask, request, jsonify\n",
    "from rapidfuzz import process, fuzz\n",
    "\n",
    "app = Flask(__name__)\n",
    "\n",
    "@app.route('/search', methods=['POST'])\n",
    "def search_words():\n",
    "    data = request.json\n",
    "    word_list = data['words']\n",
    "    text = data['text']\n",
    "    \n",
    "    results = []\n",
    "\n",
    "    for word in word_list:\n",
    "        matches = process.extract(word, text.split(), scorer=fuzz.partial_ratio, limit=None)\n",
    "        for match in matches:\n",
    "            if match[1] >= 80:  # Set a threshold for match confidence\n",
    "                results.append({'trigger_word': match[0], 'id': text.split().index(match[0]) + 1, 'word_from_list': word})\n",
    "\n",
    "    return jsonify(results)\n",
    "\n",
    "if __name__ == '__main__':\n",
    "    app.run(debug=True)\n"
   ]
  },
  {
   "cell_type": "code",
   "execution_count": 7,
   "metadata": {},
   "outputs": [
    {
     "name": "stdout",
     "output_type": "stream",
     "text": [
      "[{'trigger_word': 'хуовий', 'id': 2, 'word_from_list': 'хуй', 'confidence': 80.0}, {'trigger_word': 'піздєц', 'id': 6, 'word_from_list': 'пізда', 'confidence': 88.88888888888889}]\n"
     ]
    }
   ],
   "source": [
    "from rapidfuzz import process, fuzz\n",
    "\n",
    "word_list = [\"хуй\", \"пізда\"]\n",
    "text = \"Привіт, хуовий Це ж зовсім піздєц\"\n",
    "\n",
    "results = []\n",
    "\n",
    "for word in word_list:\n",
    "    matches = process.extract(word, text.split(), scorer=fuzz.partial_ratio, limit=None)\n",
    "    for match in matches:\n",
    "        if match[1] >= 80:  # Set a threshold for match confidence\n",
    "            results.append({\n",
    "                'trigger_word': match[0], \n",
    "                'id': text.split().index(match[0]) + 1, \n",
    "                'word_from_list': word,\n",
    "                'confidence': match[1]\n",
    "            })\n",
    "print(results)"
   ]
  },
  {
   "cell_type": "code",
   "execution_count": null,
   "metadata": {},
   "outputs": [],
   "source": []
  }
 ],
 "metadata": {
  "kernelspec": {
   "display_name": "Python 3",
   "language": "python",
   "name": "python3"
  },
  "language_info": {
   "codemirror_mode": {
    "name": "ipython",
    "version": 3
   },
   "file_extension": ".py",
   "mimetype": "text/x-python",
   "name": "python",
   "nbconvert_exporter": "python",
   "pygments_lexer": "ipython3",
   "version": "3.11.2"
  }
 },
 "nbformat": 4,
 "nbformat_minor": 2
}
